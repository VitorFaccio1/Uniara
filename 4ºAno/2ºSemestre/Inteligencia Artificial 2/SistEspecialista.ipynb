{
  "nbformat": 4,
  "nbformat_minor": 0,
  "metadata": {
    "colab": {
      "provenance": [],
      "include_colab_link": true
    },
    "kernelspec": {
      "name": "python3",
      "display_name": "Python 3"
    },
    "language_info": {
      "name": "python"
    }
  },
  "cells": [
    {
      "cell_type": "markdown",
      "metadata": {
        "id": "view-in-github",
        "colab_type": "text"
      },
      "source": [
        "<a href=\"https://colab.research.google.com/github/VitorFaccio1/InteligenciaArtificial1_Uniara/blob/main/SistEspecialista.ipynb\" target=\"_parent\"><img src=\"https://colab.research.google.com/assets/colab-badge.svg\" alt=\"Open In Colab\"/></a>"
      ]
    },
    {
      "cell_type": "code",
      "execution_count": 1,
      "metadata": {
        "id": "CjH8A5DYeI9I"
      },
      "outputs": [],
      "source": [
        "candidatos = [\n",
        "    {\"Nome\": \"Candidato A\", \"Idade\": 25, \"Nível Escolar\": \"Graduação\", \"Teste de QI\": 120, \"Cursos Realizados\": 5, \"Anos de Experiência\": 3, \"Teste de Comunicação\": \"Bom\"},\n",
        "    {\"Nome\": \"Candidato B\", \"Idade\": 35, \"Nível Escolar\": \"Mestrado\", \"Teste de QI\": 130, \"Cursos Realizados\": 10, \"Anos de Experiência\": 8, \"Teste de Comunicação\": \"Excelente\"}\n",
        "]\n",
        "\n",
        "regras = [\n",
        "    {\n",
        "        \"Condição\": {\n",
        "            \"Idade\": lambda x: x >= 20 and x <= 30,\n",
        "            \"Nível Escolar\": \"Graduação\",\n",
        "            \"Teste de QI\": lambda x: x >= 110,\n",
        "            \"Cursos Realizados\": lambda x: x >= 3,\n",
        "            \"Anos de Experiência\": lambda x: x >= 2,\n",
        "            \"Teste de Comunicação\": \"Bom\"\n",
        "        },\n",
        "        \"Recomendação\": [\"Candidato A\"]\n",
        "    },\n",
        "    {\n",
        "        \"Condição\": {\n",
        "            \"Idade\": lambda x: x >= 30 and x <= 40,\n",
        "            \"Nível Escolar\": \"Mestrado\",\n",
        "            \"Teste de QI\": lambda x: x >= 125,\n",
        "            \"Cursos Realizados\": lambda x: x >= 5,\n",
        "            \"Anos de Experiência\": lambda x: x >= 5,\n",
        "            \"Teste de Comunicação\": \"Excelente\"\n",
        "        },\n",
        "        \"Recomendação\": [\"Candidato B\"]\n",
        "    }\n",
        "]"
      ]
    },
    {
      "cell_type": "code",
      "source": [
        "def recomendar_candidatos(preferencias):\n",
        "    recomendacoes = []\n",
        "    for regra in regras:\n",
        "        condicao = regra[\"Condição\"]\n",
        "        if verificar_condicao(condicao, preferencias):\n",
        "            recomendacoes.extend(regra[\"Recomendação\"])\n",
        "    return recomendacoes\n",
        "\n",
        "def verificar_condicao(condicao, preferencias):\n",
        "    for chave, valor in condicao.items():\n",
        "        if callable(valor):\n",
        "            if not valor(preferencias[chave]):\n",
        "                return False\n",
        "        else:\n",
        "            if preferencias[chave] != valor:\n",
        "                return False\n",
        "    return True"
      ],
      "metadata": {
        "id": "paQFjmBAen9M"
      },
      "execution_count": 5,
      "outputs": []
    },
    {
      "cell_type": "code",
      "source": [
        "def main():\n",
        "    idade = int(input(\"Qual é a idade do candidato? \"))\n",
        "    nivel_escolar = input(\"Qual é o nível escolar do candidato? \")\n",
        "    teste_qi = int(input(\"Qual foi o resultado do teste de QI? \"))\n",
        "    cursos_realizados = int(input(\"Quantos cursos o candidato realizou? \"))\n",
        "    anos_experiencia = int(input(\"Quantos anos de experiência o candidato possui? \"))\n",
        "    teste_comunicacao = input(\"Qual foi o resultado do teste de comunicação? \")\n",
        "\n",
        "    preferencias = {\n",
        "        \"Idade\": idade,\n",
        "        \"Nível Escolar\": nivel_escolar,\n",
        "        \"Teste de QI\": teste_qi,\n",
        "        \"Cursos Realizados\": cursos_realizados,\n",
        "        \"Anos de Experiência\": anos_experiencia,\n",
        "        \"Teste de Comunicação\": teste_comunicacao\n",
        "    }\n",
        "\n",
        "    # Obter recomendações\n",
        "    candidatos_recomendados = recomendar_candidatos(preferencias)\n",
        "\n",
        "    # Mostrar recomendações\n",
        "    if candidatos_recomendados:\n",
        "        print(\"Candidatos Recomendados:\")\n",
        "        for candidato in candidatos_recomendados:\n",
        "            print(f\"- {candidato}\")\n",
        "    else:\n",
        "        print(\"Nenhuma recomendação disponível para as características fornecidas.\")\n",
        "\n",
        "if __name__ == \"__main__\":\n",
        "    main()\n"
      ],
      "metadata": {
        "colab": {
          "base_uri": "https://localhost:8080/"
        },
        "id": "VVGk2FB3er-3",
        "outputId": "1cbfb229-fd21-472b-c945-f5cc88b11458"
      },
      "execution_count": 6,
      "outputs": [
        {
          "output_type": "stream",
          "name": "stdout",
          "text": [
            "Qual é a idade do candidato? 21\n",
            "Qual é o nível escolar do candidato? Graduação\n",
            "Qual foi o resultado do teste de QI? 120\n",
            "Quantos cursos o candidato realizou? 3\n",
            "Quantos anos de experiência o candidato possui? 4\n",
            "Qual foi o resultado do teste de comunicação? Bom\n",
            "Candidatos Recomendados:\n",
            "- Candidato A\n"
          ]
        }
      ]
    }
  ]
}