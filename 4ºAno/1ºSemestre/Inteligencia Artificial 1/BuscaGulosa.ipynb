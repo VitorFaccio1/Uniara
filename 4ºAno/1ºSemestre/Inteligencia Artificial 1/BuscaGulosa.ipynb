{
  "nbformat": 4,
  "nbformat_minor": 0,
  "metadata": {
    "colab": {
      "provenance": [],
      "include_colab_link": true
    },
    "kernelspec": {
      "name": "python3",
      "display_name": "Python 3"
    },
    "language_info": {
      "name": "python"
    }
  },
  "cells": [
    {
      "cell_type": "markdown",
      "metadata": {
        "id": "view-in-github",
        "colab_type": "text"
      },
      "source": [
        "<a href=\"https://colab.research.google.com/github/VitorFaccio1/InteligenciaArtificial1_Uniara/blob/main/BuscaGulosa.ipynb\" target=\"_parent\"><img src=\"https://colab.research.google.com/assets/colab-badge.svg\" alt=\"Open In Colab\"/></a>"
      ]
    },
    {
      "cell_type": "markdown",
      "source": [
        "#Algoritmo de Busca Gulosa"
      ],
      "metadata": {
        "id": "6jeXasc2_WB6"
      }
    },
    {
      "cell_type": "markdown",
      "source": [
        "Importação de Biblioteca - >  A biblioteca heapq em Python fornece funcionalidades para manipulação de filas de prioridade, que são estruturas de dados usadas para manter uma coleção de elementos com base em suas prioridades. Ela é implementada usando uma estrutura de dados chamada heap, que é uma árvore binária especial em que cada nó é menor (ou maior, dependendo do tipo de heap) do que seus filhos."
      ],
      "metadata": {
        "id": "mGVOEjfZ_pYa"
      }
    },
    {
      "cell_type": "code",
      "execution_count": 5,
      "metadata": {
        "id": "NqLfOO1m_VVP"
      },
      "outputs": [],
      "source": [
        "import heapq"
      ]
    },
    {
      "cell_type": "markdown",
      "source": [
        "Função principal"
      ],
      "metadata": {
        "id": "DEJx6wKP_3U6"
      }
    },
    {
      "cell_type": "code",
      "source": [
        "def greedy_search(graph, start, goal):\n",
        "    visited = set()\n",
        "    priority_queue = [(0, start)]\n",
        "    while priority_queue:\n",
        "        cost, current_node = heapq.heappop(priority_queue)\n",
        "        if current_node == goal:\n",
        "            return cost\n",
        "        if current_node not in visited:\n",
        "            visited.add(current_node)\n",
        "            for neighbor, neighbor_cost in graph[current_node].items():\n",
        "                if neighbor not in visited:\n",
        "                    heapq.heappush(priority_queue, (cost + neighbor_cost, neighbor))\n",
        "    return float('inf')"
      ],
      "metadata": {
        "id": "KSuAicSe_83-"
      },
      "execution_count": 6,
      "outputs": []
    },
    {
      "cell_type": "markdown",
      "source": [
        "Exemplo de grafo ponderado"
      ],
      "metadata": {
        "id": "VwTyRgQr_-Fr"
      }
    },
    {
      "cell_type": "code",
      "source": [
        "graph = {\n",
        "    'A': {'B': 10, 'C': 20, 'D': 15},\n",
        "    'B': {'A': 10, 'C': 25, 'E': 30},\n",
        "    'C': {'A': 20, 'B': 25, 'D': 35, 'E': 40},\n",
        "    'D': {'A': 15, 'C': 35, 'E': 45},\n",
        "    'E': {'B': 30, 'C': 40, 'D': 45}\n",
        "}"
      ],
      "metadata": {
        "id": "oga_aYJtAAJU"
      },
      "execution_count": 7,
      "outputs": []
    },
    {
      "cell_type": "markdown",
      "source": [
        "Testar:"
      ],
      "metadata": {
        "id": "c-Rj_HHVAD3f"
      }
    },
    {
      "cell_type": "code",
      "source": [
        "start_node = 'A'\n",
        "goal_node = 'B'\n",
        "\n",
        "shortest_path_cost = greedy_search(graph, start_node, goal_node)\n",
        "print(\"O custo do caminho mais curto de\", start_node, \"para\", goal_node, \"é:\", shortest_path_cost)"
      ],
      "metadata": {
        "id": "fvehi8SlAGj4",
        "colab": {
          "base_uri": "https://localhost:8080/"
        },
        "outputId": "c9237935-0165-467f-f13b-b1e834f16088"
      },
      "execution_count": 8,
      "outputs": [
        {
          "output_type": "stream",
          "name": "stdout",
          "text": [
            "O custo do caminho mais curto de A para B é: 10\n"
          ]
        }
      ]
    }
  ]
}