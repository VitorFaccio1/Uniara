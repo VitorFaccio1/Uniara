{
  "nbformat": 4,
  "nbformat_minor": 0,
  "metadata": {
    "colab": {
      "provenance": [],
      "include_colab_link": true
    },
    "kernelspec": {
      "name": "python3",
      "display_name": "Python 3"
    },
    "language_info": {
      "name": "python"
    }
  },
  "cells": [
    {
      "cell_type": "markdown",
      "metadata": {
        "id": "view-in-github",
        "colab_type": "text"
      },
      "source": [
        "<a href=\"https://colab.research.google.com/github/VitorFaccio1/InteligenciaArtificial1_Uniara/blob/main/OCR_Tesseract.ipynb\" target=\"_parent\"><img src=\"https://colab.research.google.com/assets/colab-badge.svg\" alt=\"Open In Colab\"/></a>"
      ]
    },
    {
      "cell_type": "code",
      "source": [
        "!sudo apt-get install tesseract-ocr\n",
        "!pip install pytesseract\n",
        "!sudo apt-get install -y tesseract-ocr-por\n",
        "!pip install pillow"
      ],
      "metadata": {
        "colab": {
          "base_uri": "https://localhost:8080/"
        },
        "id": "zCTxvUwCh5_q",
        "outputId": "acdc1fbf-8b25-42ac-e6be-562ae7e20263"
      },
      "execution_count": 1,
      "outputs": [
        {
          "output_type": "stream",
          "name": "stdout",
          "text": [
            "Reading package lists... Done\n",
            "Building dependency tree... Done\n",
            "Reading state information... Done\n",
            "The following additional packages will be installed:\n",
            "  tesseract-ocr-eng tesseract-ocr-osd\n",
            "The following NEW packages will be installed:\n",
            "  tesseract-ocr tesseract-ocr-eng tesseract-ocr-osd\n",
            "0 upgraded, 3 newly installed, 0 to remove and 45 not upgraded.\n",
            "Need to get 4,816 kB of archives.\n",
            "After this operation, 15.6 MB of additional disk space will be used.\n",
            "Get:1 http://archive.ubuntu.com/ubuntu jammy/universe amd64 tesseract-ocr-eng all 1:4.00~git30-7274cfa-1.1 [1,591 kB]\n",
            "Get:2 http://archive.ubuntu.com/ubuntu jammy/universe amd64 tesseract-ocr-osd all 1:4.00~git30-7274cfa-1.1 [2,990 kB]\n",
            "Get:3 http://archive.ubuntu.com/ubuntu jammy/universe amd64 tesseract-ocr amd64 4.1.1-2.1build1 [236 kB]\n",
            "Fetched 4,816 kB in 1s (6,848 kB/s)\n",
            "debconf: unable to initialize frontend: Dialog\n",
            "debconf: (No usable dialog-like program is installed, so the dialog based frontend cannot be used. at /usr/share/perl5/Debconf/FrontEnd/Dialog.pm line 78, <> line 3.)\n",
            "debconf: falling back to frontend: Readline\n",
            "debconf: unable to initialize frontend: Readline\n",
            "debconf: (This frontend requires a controlling tty.)\n",
            "debconf: falling back to frontend: Teletype\n",
            "dpkg-preconfigure: unable to re-open stdin: \n",
            "Selecting previously unselected package tesseract-ocr-eng.\n",
            "(Reading database ... 121918 files and directories currently installed.)\n",
            "Preparing to unpack .../tesseract-ocr-eng_1%3a4.00~git30-7274cfa-1.1_all.deb ...\n",
            "Unpacking tesseract-ocr-eng (1:4.00~git30-7274cfa-1.1) ...\n",
            "Selecting previously unselected package tesseract-ocr-osd.\n",
            "Preparing to unpack .../tesseract-ocr-osd_1%3a4.00~git30-7274cfa-1.1_all.deb ...\n",
            "Unpacking tesseract-ocr-osd (1:4.00~git30-7274cfa-1.1) ...\n",
            "Selecting previously unselected package tesseract-ocr.\n",
            "Preparing to unpack .../tesseract-ocr_4.1.1-2.1build1_amd64.deb ...\n",
            "Unpacking tesseract-ocr (4.1.1-2.1build1) ...\n",
            "Setting up tesseract-ocr-eng (1:4.00~git30-7274cfa-1.1) ...\n",
            "Setting up tesseract-ocr-osd (1:4.00~git30-7274cfa-1.1) ...\n",
            "Setting up tesseract-ocr (4.1.1-2.1build1) ...\n",
            "Processing triggers for man-db (2.10.2-1) ...\n",
            "Collecting pytesseract\n",
            "  Downloading pytesseract-0.3.10-py3-none-any.whl (14 kB)\n",
            "Requirement already satisfied: packaging>=21.3 in /usr/local/lib/python3.10/dist-packages (from pytesseract) (24.0)\n",
            "Requirement already satisfied: Pillow>=8.0.0 in /usr/local/lib/python3.10/dist-packages (from pytesseract) (9.4.0)\n",
            "Installing collected packages: pytesseract\n",
            "Successfully installed pytesseract-0.3.10\n",
            "Reading package lists... Done\n",
            "Building dependency tree... Done\n",
            "Reading state information... Done\n",
            "The following NEW packages will be installed:\n",
            "  tesseract-ocr-por\n",
            "0 upgraded, 1 newly installed, 0 to remove and 45 not upgraded.\n",
            "Need to get 856 kB of archives.\n",
            "After this operation, 1,998 kB of additional disk space will be used.\n",
            "Get:1 http://archive.ubuntu.com/ubuntu jammy/universe amd64 tesseract-ocr-por all 1:4.00~git30-7274cfa-1.1 [856 kB]\n",
            "Fetched 856 kB in 0s (2,370 kB/s)\n",
            "debconf: unable to initialize frontend: Dialog\n",
            "debconf: (No usable dialog-like program is installed, so the dialog based frontend cannot be used. at /usr/share/perl5/Debconf/FrontEnd/Dialog.pm line 78, <> line 1.)\n",
            "debconf: falling back to frontend: Readline\n",
            "debconf: unable to initialize frontend: Readline\n",
            "debconf: (This frontend requires a controlling tty.)\n",
            "debconf: falling back to frontend: Teletype\n",
            "dpkg-preconfigure: unable to re-open stdin: \n",
            "Selecting previously unselected package tesseract-ocr-por.\n",
            "(Reading database ... 121965 files and directories currently installed.)\n",
            "Preparing to unpack .../tesseract-ocr-por_1%3a4.00~git30-7274cfa-1.1_all.deb ...\n",
            "Unpacking tesseract-ocr-por (1:4.00~git30-7274cfa-1.1) ...\n",
            "Setting up tesseract-ocr-por (1:4.00~git30-7274cfa-1.1) ...\n",
            "Requirement already satisfied: pillow in /usr/local/lib/python3.10/dist-packages (9.4.0)\n"
          ]
        }
      ]
    },
    {
      "cell_type": "code",
      "source": [
        "!tesseract --list-langs\n"
      ],
      "metadata": {
        "colab": {
          "base_uri": "https://localhost:8080/"
        },
        "id": "K8yh3Xtpjejs",
        "outputId": "4aed8382-7ea0-44c0-8572-4d50d22254d8"
      },
      "execution_count": 2,
      "outputs": [
        {
          "output_type": "stream",
          "name": "stdout",
          "text": [
            "List of available languages (3):\n",
            "eng\n",
            "osd\n",
            "por\n"
          ]
        }
      ]
    },
    {
      "cell_type": "code",
      "execution_count": 10,
      "metadata": {
        "colab": {
          "base_uri": "https://localhost:8080/"
        },
        "id": "Aszsn1fsgvvM",
        "outputId": "eacbd33b-3f06-4388-f432-482ca3aab28e"
      },
      "outputs": [
        {
          "output_type": "stream",
          "name": "stdout",
          "text": [
            "BOMBABOA: A BOMBA QUE TINHA CORAÇÃO\n",
            "\n",
            "HÁ ALGUM TEMPO ATRÁS, QUANDO O MUNDO\n",
            "ESTAVA EM GUERRA, AS ARMAS MAIS TERRÍVEIS\n",
            "ERAM AS BOMBAS. [50]\n",
            "\n",
            "OS AVIÕES JOGAVAM BOMBAS LÁ DO ALTO, Dá\n",
            "PARA DESTRUÍREM AS CIDADES...\n",
            "\n",
            "ESTA É A HISTÓRIA DE BOMBABOA, A BOMBA QUE TINHA\n",
            "CORAÇÃO. TINHA UM ENORME CORAÇÃO, SÓ QUE NINGUÉM SABIA\n",
            "DISSO.\n",
            "\n",
            "UM DIA, BOMBABOA FOI LEVADA POR UM AVIÃO, PARA\n",
            "DESTRUIR UMA CIDADE. DE REPENTE, ELA SENTIU QUE ESTAVA\n",
            "CAINDO, CAINDO, CAINDO. BOMBABOA FEZ ENTÃO UM GRANDE\n",
            "ESFORÇO E CONSEGUIU SE DESVIAR DO ALVO, INDO CAIR SOBRE\n",
            "UM MONTE DE FENO, NUMA FAZENDINHA. COMO O FENO ERA MACIO,\n",
            "ELA NÃO EXPLODIU; E O CANSAÇO FOI TANTO, QUE ELA\n",
            "ADORMECEU... E SONHOU...\n",
            "\n",
            "ERA UM SONHO LINDO! BOMBABOA ESTAVA CERCADA DE\n",
            "CRIANÇAS QUE LHE PEDIAM PARA BRINCAR.\n",
            "\n",
            "NAQUELE MOMENTO ELA SENTIU QUE PODIA DAR PRAZER E\n",
            "ALEGRIA. MAS O SONHO DUROU POUCO... POR OUTRAS MÃOS ELA\n",
            "FOI LEVADA. AS PESSOAS ERAM DIFERENTES E AS INTENÇÕES NÃO\n",
            "ERAM BOAS...\n",
            "\n",
            "NÃO DEMOROU MUITO E BOMBABOA VIU QUE ESTAVA SOBRE\n",
            "OUTRA CIDADE. E NOVAMENTE SENTIU QUE DEVERIA MATAR E\n",
            "DESTRUIR.\n",
            "\n",
            "FEZ ENTÃO, DE NOVO, UM GRANDE ESFORÇO PARA SE DESVIAR\n",
            "DO ALVO. DE NADA ADIANTOU: EXPLODIU!\n",
            "\n",
            " \n",
            "\n",
            " \n",
            "\f\n"
          ]
        }
      ],
      "source": [
        "# Importar bibliotecas necessárias\n",
        "import pytesseract\n",
        "from PIL import Image\n",
        "import requests\n",
        "from io import BytesIO\n",
        "\n",
        "# imagem de exemplo\n",
        "img = '/content/sample_data/Texto3.jpg'\n",
        "\n",
        "# Executar OCR na imagem\n",
        "texto = pytesseract.image_to_string(img, lang='por')\n",
        "\n",
        "# Exibir o texto extraído\n",
        "print(texto)\n"
      ]
    }
  ]
}