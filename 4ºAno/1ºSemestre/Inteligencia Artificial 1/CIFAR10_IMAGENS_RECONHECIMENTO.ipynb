{
  "nbformat": 4,
  "nbformat_minor": 0,
  "metadata": {
    "colab": {
      "provenance": [],
      "include_colab_link": true
    },
    "kernelspec": {
      "name": "python3",
      "display_name": "Python 3"
    },
    "language_info": {
      "name": "python"
    }
  },
  "cells": [
    {
      "cell_type": "markdown",
      "metadata": {
        "id": "view-in-github",
        "colab_type": "text"
      },
      "source": [
        "<a href=\"https://colab.research.google.com/github/VitorFaccio1/InteligenciaArtificial1_Uniara/blob/main/CIFAR10_IMAGENS_RECONHECIMENTO.ipynb\" target=\"_parent\"><img src=\"https://colab.research.google.com/assets/colab-badge.svg\" alt=\"Open In Colab\"/></a>"
      ]
    },
    {
      "cell_type": "code",
      "execution_count": 1,
      "metadata": {
        "colab": {
          "base_uri": "https://localhost:8080/"
        },
        "id": "cL8xE4PTrC0t",
        "outputId": "9f98efc2-20f2-4d31-e419-d12026c0e8f4"
      },
      "outputs": [
        {
          "output_type": "stream",
          "name": "stdout",
          "text": [
            "Downloading data from https://www.cs.toronto.edu/~kriz/cifar-10-python.tar.gz\n",
            "170498071/170498071 [==============================] - 6s 0us/step\n",
            "Epoch 1/10\n",
            "1563/1563 [==============================] - 86s 54ms/step - loss: 1.4433 - accuracy: 0.4731 - val_loss: 1.1453 - val_accuracy: 0.5925\n",
            "Epoch 2/10\n",
            "1563/1563 [==============================] - 78s 50ms/step - loss: 1.0612 - accuracy: 0.6239 - val_loss: 0.9831 - val_accuracy: 0.6557\n",
            "Epoch 3/10\n",
            "1563/1563 [==============================] - 78s 50ms/step - loss: 0.8909 - accuracy: 0.6848 - val_loss: 0.8927 - val_accuracy: 0.6906\n",
            "Epoch 4/10\n",
            "1563/1563 [==============================] - 79s 51ms/step - loss: 0.7695 - accuracy: 0.7291 - val_loss: 0.8412 - val_accuracy: 0.7064\n",
            "Epoch 5/10\n",
            "1563/1563 [==============================] - 77s 49ms/step - loss: 0.6814 - accuracy: 0.7619 - val_loss: 0.8654 - val_accuracy: 0.7023\n",
            "Epoch 6/10\n",
            "1563/1563 [==============================] - 80s 51ms/step - loss: 0.6023 - accuracy: 0.7881 - val_loss: 0.8523 - val_accuracy: 0.7127\n",
            "Epoch 7/10\n",
            "1563/1563 [==============================] - 81s 52ms/step - loss: 0.5287 - accuracy: 0.8131 - val_loss: 0.8489 - val_accuracy: 0.7244\n",
            "Epoch 8/10\n",
            "1563/1563 [==============================] - 78s 50ms/step - loss: 0.4583 - accuracy: 0.8365 - val_loss: 0.8806 - val_accuracy: 0.7257\n",
            "Epoch 9/10\n",
            "1563/1563 [==============================] - 80s 51ms/step - loss: 0.3965 - accuracy: 0.8594 - val_loss: 0.9285 - val_accuracy: 0.7267\n",
            "Epoch 10/10\n",
            "1563/1563 [==============================] - 81s 52ms/step - loss: 0.3438 - accuracy: 0.8779 - val_loss: 0.9926 - val_accuracy: 0.7232\n",
            "313/313 [==============================] - 6s 18ms/step - loss: 0.9926 - accuracy: 0.7232\n",
            "Test accuracy: 0.7232000231742859\n"
          ]
        }
      ],
      "source": [
        "import tensorflow as tf\n",
        "from tensorflow.keras.datasets import cifar10\n",
        "from tensorflow.keras.preprocessing.image import ImageDataGenerator\n",
        "\n",
        "# Carregar os dados CIFAR-10\n",
        "(train_images, train_labels), (test_images, test_labels) = cifar10.load_data()\n",
        "\n",
        "# Pré-processamento das imagens\n",
        "train_images = train_images / 255.0\n",
        "test_images = test_images / 255.0\n",
        "\n",
        "# Definir o modelo CNN\n",
        "model = tf.keras.models.Sequential([\n",
        "    tf.keras.layers.Conv2D(32, (3, 3), activation='relu', input_shape=(32, 32, 3)),\n",
        "    tf.keras.layers.MaxPooling2D((2, 2)),\n",
        "    tf.keras.layers.Conv2D(64, (3, 3), activation='relu'),\n",
        "    tf.keras.layers.MaxPooling2D((2, 2)),\n",
        "    tf.keras.layers.Conv2D(128, (3, 3), activation='relu'),\n",
        "    tf.keras.layers.MaxPooling2D((2, 2)),\n",
        "    tf.keras.layers.Flatten(),\n",
        "    tf.keras.layers.Dense(512, activation='relu'),\n",
        "    tf.keras.layers.Dense(10, activation='softmax')\n",
        "])\n",
        "\n",
        "# Compilar o modelo\n",
        "model.compile(optimizer='adam',\n",
        "              loss='sparse_categorical_crossentropy',\n",
        "              metrics=['accuracy'])\n",
        "\n",
        "# Treinar o modelo\n",
        "history = model.fit(train_images, train_labels, epochs=10, validation_data=(test_images, test_labels))\n",
        "\n",
        "# Avaliar o modelo\n",
        "test_loss, test_acc = model.evaluate(test_images, test_labels)\n",
        "\n",
        "print('Test accuracy:', test_acc)\n"
      ]
    },
    {
      "cell_type": "code",
      "source": [
        "from google.colab import drive\n",
        "drive.mount('/content/drive')"
      ],
      "metadata": {
        "id": "8R1NFD3RK2Gx",
        "outputId": "b25597f7-84aa-4f09-dbd6-a01a7d7f8dd9",
        "colab": {
          "base_uri": "https://localhost:8080/"
        }
      },
      "execution_count": 2,
      "outputs": [
        {
          "output_type": "stream",
          "name": "stdout",
          "text": [
            "Mounted at /content/drive\n"
          ]
        }
      ]
    },
    {
      "cell_type": "code",
      "source": [
        "model.save('modelo_cifar10.h5')"
      ],
      "metadata": {
        "colab": {
          "base_uri": "https://localhost:8080/"
        },
        "id": "zPiESjh6Ug-9",
        "outputId": "921a0dbe-c478-4efb-e12f-dfc00502ecf1"
      },
      "execution_count": 3,
      "outputs": [
        {
          "output_type": "stream",
          "name": "stderr",
          "text": [
            "/usr/local/lib/python3.10/dist-packages/keras/src/engine/training.py:3103: UserWarning: You are saving your model as an HDF5 file via `model.save()`. This file format is considered legacy. We recommend using instead the native Keras format, e.g. `model.save('my_model.keras')`.\n",
            "  saving_api.save_model(\n"
          ]
        }
      ]
    },
    {
      "cell_type": "code",
      "source": [
        "import tensorflow as tf\n",
        "import numpy as np\n",
        "from tensorflow.keras.preprocessing import image\n",
        "\n",
        "# Carregar o modelo treinado\n",
        "model = tf.keras.models.load_model('modelo_cifar10.h5')\n",
        "\n",
        "# Carregar uma nova imagem\n",
        "image_path = '/content/dados/Caminhao2.jpg'  # Substitua pelo caminho da sua imagem\n",
        "img = image.load_img(image_path, target_size=(32, 32))\n",
        "img_array = image.img_to_array(img)\n",
        "img_array = np.expand_dims(img_array, axis=0)\n",
        "img_array /= 255.0  # Normalização\n",
        "\n",
        "# Fazer a previsão\n",
        "prediction = model.predict(img_array)\n",
        "predicted_class = np.argmax(prediction)\n",
        "\n",
        "# Mapear o número da classe para o nome da classe\n",
        "class_names = ['avião', 'automóvel', 'pássaro', 'gato', 'cervo', 'cachorro', 'sapo', 'cavalo', 'navio', 'caminhão']\n",
        "predicted_label = class_names[predicted_class]\n",
        "\n",
        "print('Predicted class:', predicted_label)\n"
      ],
      "metadata": {
        "colab": {
          "base_uri": "https://localhost:8080/"
        },
        "id": "NlMJgunnsVeR",
        "outputId": "0045a5e2-fe1e-4843-e3cc-abe884b41e43"
      },
      "execution_count": 30,
      "outputs": [
        {
          "output_type": "stream",
          "name": "stdout",
          "text": [
            "1/1 [==============================] - 0s 89ms/step\n",
            "Predicted class: caminhão\n"
          ]
        }
      ]
    }
  ]
}